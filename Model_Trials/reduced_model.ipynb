{
 "cells": [
  {
   "cell_type": "code",
   "execution_count": 1,
   "metadata": {},
   "outputs": [],
   "source": [
    "%load_ext lab_black"
   ]
  },
  {
   "cell_type": "code",
   "execution_count": 2,
   "metadata": {},
   "outputs": [],
   "source": [
    "import pandas as pd\n",
    "\n",
    "from sklearn.model_selection import train_test_split\n",
    "from sklearn.metrics import mean_squared_error\n",
    "from sklearn.preprocessing import OneHotEncoder\n",
    "from sklearn.compose import ColumnTransformer\n",
    "from sklearn.pipeline import make_pipeline\n",
    "from sklearn.linear_model import LinearRegression\n",
    "from sklearn.linear_model import Lasso\n",
    "from sklearn.tree import DecisionTreeRegressor\n",
    "from sklearn.ensemble import RandomForestRegressor\n",
    "from sklearn.preprocessing import PolynomialFeatures\n",
    "\n",
    "from sklearn.model_selection import cross_validate\n",
    "from sklearn.model_selection import KFold"
   ]
  },
  {
   "cell_type": "code",
   "execution_count": 3,
   "metadata": {},
   "outputs": [],
   "source": [
    "df = pd.read_csv(\"../Resources/full_data.csv\").assign(\n",
    "    country_id=lambda df: df[\"country_id\"].replace(\n",
    "        {\n",
    "            1: \"United Kingdom\",\n",
    "            2: \"Austria\",\n",
    "            3: \"Belgium\",\n",
    "            4: \"Denmark\",\n",
    "            5: \"Finland\",\n",
    "            6: \"France\",\n",
    "            7: \"Germany\",\n",
    "            8: \"Ireland\",\n",
    "            9: \"Italy\",\n",
    "            10: \"Luxembourg\",\n",
    "            11: \"Netherlands\",\n",
    "            12: \"Norway\",\n",
    "            13: \"Portugal\",\n",
    "            14: \"Russia\",\n",
    "            15: \"Spain\",\n",
    "            16: \"Sweden\",\n",
    "            17: \"Switzerland\",\n",
    "            18: \"Greece\",\n",
    "            19: \"Hungary\",\n",
    "            20: \"Turkey\",\n",
    "            21: \"Canada\",\n",
    "            22: \"Australia\",\n",
    "            23: \"New Zealand\",\n",
    "            24: \"Japan\",\n",
    "            25: \"China\",\n",
    "            26: \"Hong Kong\",\n",
    "            27: \"India\",\n",
    "            28: \"Malaysia\",\n",
    "            29: \"Philippines\",\n",
    "            30: \"Singapore\",\n",
    "            31: \"South Korea\",\n",
    "            32: \"Israel\",\n",
    "            33: \"Indonesia\",\n",
    "            34: \"Pakistan\",\n",
    "            35: \"Thailand\",\n",
    "            36: \"Kuwait\",\n",
    "            37: \"United Arab Emirates\",\n",
    "            38: \"Argentina\",\n",
    "            39: \"Brazil\",\n",
    "            40: \"Chile\",\n",
    "            41: \"Mexico\",\n",
    "            42: \"Panama\",\n",
    "            43: \"Venezuela\",\n",
    "            44: \"South Africa\",\n",
    "            45: \"Liberia\",\n",
    "        }\n",
    "    ),\n",
    "    region_id=lambda df: df[\"region_id\"].replace(\n",
    "        {1: \"Europe\", 2: \"Canada & Pacific\", 3: \"Asia\", 4: \"Latin America\", 5: \"Africa\"}\n",
    "    ),\n",
    ")"
   ]
  },
  {
   "cell_type": "code",
   "execution_count": 4,
   "metadata": {},
   "outputs": [
    {
     "data": {
      "text/html": [
       "<div>\n",
       "<style scoped>\n",
       "    .dataframe tbody tr th:only-of-type {\n",
       "        vertical-align: middle;\n",
       "    }\n",
       "\n",
       "    .dataframe tbody tr th {\n",
       "        vertical-align: top;\n",
       "    }\n",
       "\n",
       "    .dataframe thead th {\n",
       "        text-align: right;\n",
       "    }\n",
       "</style>\n",
       "<table border=\"1\" class=\"dataframe\">\n",
       "  <thead>\n",
       "    <tr style=\"text-align: right;\">\n",
       "      <th></th>\n",
       "      <th>year</th>\n",
       "      <th>year_id</th>\n",
       "      <th>countries</th>\n",
       "      <th>country_id</th>\n",
       "      <th>regions</th>\n",
       "      <th>region_id</th>\n",
       "      <th>western_emerging</th>\n",
       "      <th>west_emerge_id</th>\n",
       "      <th>capital</th>\n",
       "      <th>latitude</th>\n",
       "      <th>...</th>\n",
       "      <th>fdi_in_usa_million</th>\n",
       "      <th>globalization_100</th>\n",
       "      <th>gdp_per_capita_usd</th>\n",
       "      <th>interaction_gdp</th>\n",
       "      <th>fdi_by_usa_million</th>\n",
       "      <th>interaction_us_fdi</th>\n",
       "      <th>stock_market_capitalization_gdp</th>\n",
       "      <th>interaction_stock_mkt</th>\n",
       "      <th>government_effectiveness</th>\n",
       "      <th>rule_of_law</th>\n",
       "    </tr>\n",
       "  </thead>\n",
       "  <tbody>\n",
       "    <tr>\n",
       "      <th>0</th>\n",
       "      <td>1982</td>\n",
       "      <td>1</td>\n",
       "      <td>United Kingdom</td>\n",
       "      <td>United Kingdom</td>\n",
       "      <td>Europe</td>\n",
       "      <td>Europe</td>\n",
       "      <td>Western</td>\n",
       "      <td>1</td>\n",
       "      <td>London</td>\n",
       "      <td>51.5085</td>\n",
       "      <td>...</td>\n",
       "      <td>28447.0</td>\n",
       "      <td>78</td>\n",
       "      <td>9146.077357</td>\n",
       "      <td>713394.03380</td>\n",
       "      <td>27537.0</td>\n",
       "      <td>2147886.0</td>\n",
       "      <td>38.10340</td>\n",
       "      <td>2972.06520</td>\n",
       "      <td>1.88</td>\n",
       "      <td>1.63</td>\n",
       "    </tr>\n",
       "    <tr>\n",
       "      <th>1</th>\n",
       "      <td>1983</td>\n",
       "      <td>2</td>\n",
       "      <td>United Kingdom</td>\n",
       "      <td>United Kingdom</td>\n",
       "      <td>Europe</td>\n",
       "      <td>Europe</td>\n",
       "      <td>Western</td>\n",
       "      <td>1</td>\n",
       "      <td>London</td>\n",
       "      <td>51.5085</td>\n",
       "      <td>...</td>\n",
       "      <td>32152.0</td>\n",
       "      <td>78</td>\n",
       "      <td>8691.518813</td>\n",
       "      <td>677938.46740</td>\n",
       "      <td>28086.0</td>\n",
       "      <td>2190708.0</td>\n",
       "      <td>46.12510</td>\n",
       "      <td>3597.75780</td>\n",
       "      <td>1.88</td>\n",
       "      <td>1.63</td>\n",
       "    </tr>\n",
       "    <tr>\n",
       "      <th>2</th>\n",
       "      <td>1984</td>\n",
       "      <td>3</td>\n",
       "      <td>United Kingdom</td>\n",
       "      <td>United Kingdom</td>\n",
       "      <td>Europe</td>\n",
       "      <td>Europe</td>\n",
       "      <td>Western</td>\n",
       "      <td>1</td>\n",
       "      <td>London</td>\n",
       "      <td>51.5085</td>\n",
       "      <td>...</td>\n",
       "      <td>38387.0</td>\n",
       "      <td>78</td>\n",
       "      <td>8179.194441</td>\n",
       "      <td>637977.16640</td>\n",
       "      <td>29265.0</td>\n",
       "      <td>2282670.0</td>\n",
       "      <td>51.22640</td>\n",
       "      <td>3995.65920</td>\n",
       "      <td>1.88</td>\n",
       "      <td>1.63</td>\n",
       "    </tr>\n",
       "    <tr>\n",
       "      <th>3</th>\n",
       "      <td>1985</td>\n",
       "      <td>4</td>\n",
       "      <td>United Kingdom</td>\n",
       "      <td>United Kingdom</td>\n",
       "      <td>Europe</td>\n",
       "      <td>Europe</td>\n",
       "      <td>Western</td>\n",
       "      <td>1</td>\n",
       "      <td>London</td>\n",
       "      <td>51.5085</td>\n",
       "      <td>...</td>\n",
       "      <td>43555.0</td>\n",
       "      <td>78</td>\n",
       "      <td>8652.216542</td>\n",
       "      <td>674872.89030</td>\n",
       "      <td>34066.0</td>\n",
       "      <td>2657148.0</td>\n",
       "      <td>72.24320</td>\n",
       "      <td>5634.96960</td>\n",
       "      <td>1.88</td>\n",
       "      <td>1.63</td>\n",
       "    </tr>\n",
       "    <tr>\n",
       "      <th>4</th>\n",
       "      <td>1986</td>\n",
       "      <td>5</td>\n",
       "      <td>United Kingdom</td>\n",
       "      <td>United Kingdom</td>\n",
       "      <td>Europe</td>\n",
       "      <td>Europe</td>\n",
       "      <td>Western</td>\n",
       "      <td>1</td>\n",
       "      <td>London</td>\n",
       "      <td>51.5085</td>\n",
       "      <td>...</td>\n",
       "      <td>55935.0</td>\n",
       "      <td>78</td>\n",
       "      <td>10611.112210</td>\n",
       "      <td>827666.75240</td>\n",
       "      <td>36974.0</td>\n",
       "      <td>2883972.0</td>\n",
       "      <td>78.62570</td>\n",
       "      <td>6132.80460</td>\n",
       "      <td>1.88</td>\n",
       "      <td>1.63</td>\n",
       "    </tr>\n",
       "    <tr>\n",
       "      <th>...</th>\n",
       "      <td>...</td>\n",
       "      <td>...</td>\n",
       "      <td>...</td>\n",
       "      <td>...</td>\n",
       "      <td>...</td>\n",
       "      <td>...</td>\n",
       "      <td>...</td>\n",
       "      <td>...</td>\n",
       "      <td>...</td>\n",
       "      <td>...</td>\n",
       "      <td>...</td>\n",
       "      <td>...</td>\n",
       "      <td>...</td>\n",
       "      <td>...</td>\n",
       "      <td>...</td>\n",
       "      <td>...</td>\n",
       "      <td>...</td>\n",
       "      <td>...</td>\n",
       "      <td>...</td>\n",
       "      <td>...</td>\n",
       "      <td>...</td>\n",
       "    </tr>\n",
       "    <tr>\n",
       "      <th>1705</th>\n",
       "      <td>2015</td>\n",
       "      <td>34</td>\n",
       "      <td>Liberia</td>\n",
       "      <td>Liberia</td>\n",
       "      <td>Africa</td>\n",
       "      <td>Africa</td>\n",
       "      <td>Emerging</td>\n",
       "      <td>2</td>\n",
       "      <td>Monrovia</td>\n",
       "      <td>6.3005</td>\n",
       "      <td>...</td>\n",
       "      <td>501.0</td>\n",
       "      <td>47</td>\n",
       "      <td>710.383858</td>\n",
       "      <td>33388.04131</td>\n",
       "      <td>1006.0</td>\n",
       "      <td>47282.0</td>\n",
       "      <td>0.42386</td>\n",
       "      <td>19.92142</td>\n",
       "      <td>-1.36</td>\n",
       "      <td>-0.86</td>\n",
       "    </tr>\n",
       "    <tr>\n",
       "      <th>1706</th>\n",
       "      <td>2016</td>\n",
       "      <td>35</td>\n",
       "      <td>Liberia</td>\n",
       "      <td>Liberia</td>\n",
       "      <td>Africa</td>\n",
       "      <td>Africa</td>\n",
       "      <td>Emerging</td>\n",
       "      <td>2</td>\n",
       "      <td>Monrovia</td>\n",
       "      <td>6.3005</td>\n",
       "      <td>...</td>\n",
       "      <td>479.0</td>\n",
       "      <td>47</td>\n",
       "      <td>714.623392</td>\n",
       "      <td>33587.29943</td>\n",
       "      <td>756.0</td>\n",
       "      <td>35532.0</td>\n",
       "      <td>0.42386</td>\n",
       "      <td>19.92142</td>\n",
       "      <td>-1.28</td>\n",
       "      <td>-0.95</td>\n",
       "    </tr>\n",
       "    <tr>\n",
       "      <th>1707</th>\n",
       "      <td>2017</td>\n",
       "      <td>36</td>\n",
       "      <td>Liberia</td>\n",
       "      <td>Liberia</td>\n",
       "      <td>Africa</td>\n",
       "      <td>Africa</td>\n",
       "      <td>Emerging</td>\n",
       "      <td>2</td>\n",
       "      <td>Monrovia</td>\n",
       "      <td>6.3005</td>\n",
       "      <td>...</td>\n",
       "      <td>457.0</td>\n",
       "      <td>48</td>\n",
       "      <td>698.701764</td>\n",
       "      <td>33537.68469</td>\n",
       "      <td>598.0</td>\n",
       "      <td>28704.0</td>\n",
       "      <td>0.42386</td>\n",
       "      <td>20.34528</td>\n",
       "      <td>-1.34</td>\n",
       "      <td>-0.95</td>\n",
       "    </tr>\n",
       "    <tr>\n",
       "      <th>1708</th>\n",
       "      <td>2018</td>\n",
       "      <td>37</td>\n",
       "      <td>Liberia</td>\n",
       "      <td>Liberia</td>\n",
       "      <td>Africa</td>\n",
       "      <td>Africa</td>\n",
       "      <td>Emerging</td>\n",
       "      <td>2</td>\n",
       "      <td>Monrovia</td>\n",
       "      <td>6.3005</td>\n",
       "      <td>...</td>\n",
       "      <td>466.0</td>\n",
       "      <td>48</td>\n",
       "      <td>677.322179</td>\n",
       "      <td>32511.46457</td>\n",
       "      <td>171.0</td>\n",
       "      <td>8208.0</td>\n",
       "      <td>0.42386</td>\n",
       "      <td>20.34528</td>\n",
       "      <td>-1.34</td>\n",
       "      <td>-0.99</td>\n",
       "    </tr>\n",
       "    <tr>\n",
       "      <th>1709</th>\n",
       "      <td>2019</td>\n",
       "      <td>38</td>\n",
       "      <td>Liberia</td>\n",
       "      <td>Liberia</td>\n",
       "      <td>Africa</td>\n",
       "      <td>Africa</td>\n",
       "      <td>Emerging</td>\n",
       "      <td>2</td>\n",
       "      <td>Monrovia</td>\n",
       "      <td>6.3005</td>\n",
       "      <td>...</td>\n",
       "      <td>461.0</td>\n",
       "      <td>48</td>\n",
       "      <td>621.892954</td>\n",
       "      <td>29850.86177</td>\n",
       "      <td>-94.0</td>\n",
       "      <td>-4512.0</td>\n",
       "      <td>0.42386</td>\n",
       "      <td>20.34528</td>\n",
       "      <td>-1.38</td>\n",
       "      <td>-1.00</td>\n",
       "    </tr>\n",
       "  </tbody>\n",
       "</table>\n",
       "<p>1710 rows × 21 columns</p>\n",
       "</div>"
      ],
      "text/plain": [
       "      year  year_id       countries      country_id regions region_id  \\\n",
       "0     1982        1  United Kingdom  United Kingdom  Europe    Europe   \n",
       "1     1983        2  United Kingdom  United Kingdom  Europe    Europe   \n",
       "2     1984        3  United Kingdom  United Kingdom  Europe    Europe   \n",
       "3     1985        4  United Kingdom  United Kingdom  Europe    Europe   \n",
       "4     1986        5  United Kingdom  United Kingdom  Europe    Europe   \n",
       "...    ...      ...             ...             ...     ...       ...   \n",
       "1705  2015       34         Liberia         Liberia  Africa    Africa   \n",
       "1706  2016       35         Liberia         Liberia  Africa    Africa   \n",
       "1707  2017       36         Liberia         Liberia  Africa    Africa   \n",
       "1708  2018       37         Liberia         Liberia  Africa    Africa   \n",
       "1709  2019       38         Liberia         Liberia  Africa    Africa   \n",
       "\n",
       "     western_emerging  west_emerge_id   capital  latitude  ...  \\\n",
       "0             Western               1    London   51.5085  ...   \n",
       "1             Western               1    London   51.5085  ...   \n",
       "2             Western               1    London   51.5085  ...   \n",
       "3             Western               1    London   51.5085  ...   \n",
       "4             Western               1    London   51.5085  ...   \n",
       "...               ...             ...       ...       ...  ...   \n",
       "1705         Emerging               2  Monrovia    6.3005  ...   \n",
       "1706         Emerging               2  Monrovia    6.3005  ...   \n",
       "1707         Emerging               2  Monrovia    6.3005  ...   \n",
       "1708         Emerging               2  Monrovia    6.3005  ...   \n",
       "1709         Emerging               2  Monrovia    6.3005  ...   \n",
       "\n",
       "      fdi_in_usa_million  globalization_100  gdp_per_capita_usd  \\\n",
       "0                28447.0                 78         9146.077357   \n",
       "1                32152.0                 78         8691.518813   \n",
       "2                38387.0                 78         8179.194441   \n",
       "3                43555.0                 78         8652.216542   \n",
       "4                55935.0                 78        10611.112210   \n",
       "...                  ...                ...                 ...   \n",
       "1705               501.0                 47          710.383858   \n",
       "1706               479.0                 47          714.623392   \n",
       "1707               457.0                 48          698.701764   \n",
       "1708               466.0                 48          677.322179   \n",
       "1709               461.0                 48          621.892954   \n",
       "\n",
       "      interaction_gdp  fdi_by_usa_million  interaction_us_fdi  \\\n",
       "0        713394.03380             27537.0           2147886.0   \n",
       "1        677938.46740             28086.0           2190708.0   \n",
       "2        637977.16640             29265.0           2282670.0   \n",
       "3        674872.89030             34066.0           2657148.0   \n",
       "4        827666.75240             36974.0           2883972.0   \n",
       "...               ...                 ...                 ...   \n",
       "1705      33388.04131              1006.0             47282.0   \n",
       "1706      33587.29943               756.0             35532.0   \n",
       "1707      33537.68469               598.0             28704.0   \n",
       "1708      32511.46457               171.0              8208.0   \n",
       "1709      29850.86177               -94.0             -4512.0   \n",
       "\n",
       "      stock_market_capitalization_gdp  interaction_stock_mkt  \\\n",
       "0                            38.10340             2972.06520   \n",
       "1                            46.12510             3597.75780   \n",
       "2                            51.22640             3995.65920   \n",
       "3                            72.24320             5634.96960   \n",
       "4                            78.62570             6132.80460   \n",
       "...                               ...                    ...   \n",
       "1705                          0.42386               19.92142   \n",
       "1706                          0.42386               19.92142   \n",
       "1707                          0.42386               20.34528   \n",
       "1708                          0.42386               20.34528   \n",
       "1709                          0.42386               20.34528   \n",
       "\n",
       "      government_effectiveness   rule_of_law  \n",
       "0                          1.88         1.63  \n",
       "1                          1.88         1.63  \n",
       "2                          1.88         1.63  \n",
       "3                          1.88         1.63  \n",
       "4                          1.88         1.63  \n",
       "...                         ...          ...  \n",
       "1705                      -1.36        -0.86  \n",
       "1706                      -1.28        -0.95  \n",
       "1707                      -1.34        -0.95  \n",
       "1708                      -1.34        -0.99  \n",
       "1709                      -1.38        -1.00  \n",
       "\n",
       "[1710 rows x 21 columns]"
      ]
     },
     "execution_count": 4,
     "metadata": {},
     "output_type": "execute_result"
    }
   ],
   "source": [
    "df"
   ]
  },
  {
   "cell_type": "code",
   "execution_count": 5,
   "metadata": {},
   "outputs": [],
   "source": [
    "target = \"fdi_in_usa_million\""
   ]
  },
  {
   "cell_type": "code",
   "execution_count": 6,
   "metadata": {},
   "outputs": [],
   "source": [
    "X = df.drop(\n",
    "    [\n",
    "        \"year_id\",\n",
    "        \"countries\",\n",
    "        \"regions\",\n",
    "        \"western_emerging\",\n",
    "        \"west_emerge_id\",\n",
    "        \"capital\",\n",
    "        \"latitude\",\n",
    "        \"longitude\",\n",
    "        \"fdi_in_usa_million\",\n",
    "        \"globalization_100\",\n",
    "        \"gdp_per_capita_usd\",\n",
    "        \"interaction_gdp\",\n",
    "        \"fdi_by_usa_million\",\n",
    "        \"interaction_us_fdi\",\n",
    "        \"stock_market_capitalization_gdp\",\n",
    "        \"interaction_stock_mkt\",\n",
    "        \"government_effectiveness \",\n",
    "        \"rule_of_law\",\n",
    "    ],\n",
    "    axis=1,\n",
    ")\n",
    "y = df[target].values"
   ]
  },
  {
   "cell_type": "code",
   "execution_count": 7,
   "metadata": {},
   "outputs": [
    {
     "data": {
      "text/plain": [
       "Index(['year', 'country_id', 'region_id'], dtype='object')"
      ]
     },
     "execution_count": 7,
     "metadata": {},
     "output_type": "execute_result"
    }
   ],
   "source": [
    "X.columns"
   ]
  },
  {
   "cell_type": "code",
   "execution_count": 8,
   "metadata": {},
   "outputs": [],
   "source": [
    "cf = ColumnTransformer(\n",
    "    [\n",
    "        (\"numerical\", \"passthrough\", [\"year\"]),\n",
    "        (\"categorical\", OneHotEncoder(drop=\"first\"), [\"country_id\", \"region_id\"]),\n",
    "    ]\n",
    ")"
   ]
  },
  {
   "cell_type": "code",
   "execution_count": 9,
   "metadata": {},
   "outputs": [],
   "source": [
    "lr_pipeline = make_pipeline(cf, LinearRegression())\n",
    "interaction__lr_pipeline = make_pipeline(\n",
    "    cf, PolynomialFeatures(interaction_only=True), LinearRegression()\n",
    ")\n",
    "Lasso_pipeline = make_pipeline(cf, Lasso(max_iter=2000))\n",
    "decision_tree_pipeline = make_pipeline(cf, DecisionTreeRegressor())\n",
    "random_forest_pipeline = make_pipeline(cf, RandomForestRegressor())"
   ]
  },
  {
   "cell_type": "code",
   "execution_count": 10,
   "metadata": {},
   "outputs": [],
   "source": [
    "k_fold = KFold(n_splits=6, shuffle=True, random_state=42)"
   ]
  },
  {
   "cell_type": "code",
   "execution_count": 11,
   "metadata": {},
   "outputs": [
    {
     "data": {
      "text/plain": [
       "-2436794175.4576497"
      ]
     },
     "execution_count": 11,
     "metadata": {},
     "output_type": "execute_result"
    }
   ],
   "source": [
    "cross_validate(lr_pipeline, X, y, scoring=\"neg_mean_squared_error\", cv=k_fold)[\n",
    "    \"test_score\"\n",
    "].mean()"
   ]
  },
  {
   "cell_type": "code",
   "execution_count": 12,
   "metadata": {},
   "outputs": [
    {
     "data": {
      "text/plain": [
       "-454227662.8275923"
      ]
     },
     "execution_count": 12,
     "metadata": {},
     "output_type": "execute_result"
    }
   ],
   "source": [
    "cross_validate(\n",
    "    interaction__lr_pipeline, X, y, scoring=\"neg_mean_squared_error\", cv=k_fold\n",
    ")[\"test_score\"].mean()"
   ]
  },
  {
   "cell_type": "code",
   "execution_count": 13,
   "metadata": {},
   "outputs": [
    {
     "name": "stderr",
     "output_type": "stream",
     "text": [
      "/opt/conda/lib/python3.7/site-packages/sklearn/linear_model/_coordinate_descent.py:515: ConvergenceWarning: Objective did not converge. You might want to increase the number of iterations. Duality gap: 113414266190.70117, tolerance: 826281717.380839\n",
      "  max_iter, tol, rng, random, positive)\n"
     ]
    },
    {
     "data": {
      "text/plain": [
       "-2436645593.4316287"
      ]
     },
     "execution_count": 13,
     "metadata": {},
     "output_type": "execute_result"
    }
   ],
   "source": [
    "cross_validate(Lasso_pipeline, X, y, scoring=\"neg_mean_squared_error\", cv=k_fold)[\n",
    "    \"test_score\"\n",
    "].mean()"
   ]
  },
  {
   "cell_type": "code",
   "execution_count": 14,
   "metadata": {},
   "outputs": [
    {
     "data": {
      "text/plain": [
       "-158113544.12661424"
      ]
     },
     "execution_count": 14,
     "metadata": {},
     "output_type": "execute_result"
    }
   ],
   "source": [
    "cross_validate(\n",
    "    decision_tree_pipeline, X, y, scoring=\"neg_mean_squared_error\", cv=k_fold\n",
    ")[\"test_score\"].mean()"
   ]
  },
  {
   "cell_type": "code",
   "execution_count": 15,
   "metadata": {},
   "outputs": [
    {
     "data": {
      "text/plain": [
       "-107916801.90362944"
      ]
     },
     "execution_count": 15,
     "metadata": {},
     "output_type": "execute_result"
    }
   ],
   "source": [
    "cross_validate(\n",
    "    random_forest_pipeline, X, y, scoring=\"neg_mean_squared_error\", cv=k_fold\n",
    ")[\"test_score\"].mean()"
   ]
  },
  {
   "cell_type": "code",
   "execution_count": 16,
   "metadata": {},
   "outputs": [
    {
     "data": {
      "text/plain": [
       "Pipeline(steps=[('columntransformer',\n",
       "                 ColumnTransformer(transformers=[('numerical', 'passthrough',\n",
       "                                                  ['year']),\n",
       "                                                 ('categorical',\n",
       "                                                  OneHotEncoder(drop='first'),\n",
       "                                                  ['country_id',\n",
       "                                                   'region_id'])])),\n",
       "                ('randomforestregressor', RandomForestRegressor())])"
      ]
     },
     "execution_count": 16,
     "metadata": {},
     "output_type": "execute_result"
    }
   ],
   "source": [
    "random_forest_pipeline.fit(X, y)"
   ]
  },
  {
   "cell_type": "code",
   "execution_count": 26,
   "metadata": {},
   "outputs": [
    {
     "data": {
      "text/plain": [
       "array([965.])"
      ]
     },
     "execution_count": 26,
     "metadata": {},
     "output_type": "execute_result"
    }
   ],
   "source": [
    "random_forest_pipeline.predict(\n",
    "    pd.DataFrame({\"year\": [2019], \"country_id\": [\"Greece\"], \"region_id\": [\"Europe\"],})\n",
    ")"
   ]
  },
  {
   "cell_type": "code",
   "execution_count": 27,
   "metadata": {},
   "outputs": [
    {
     "data": {
      "text/plain": [
       "array([501796.11])"
      ]
     },
     "execution_count": 27,
     "metadata": {},
     "output_type": "execute_result"
    }
   ],
   "source": [
    "random_forest_pipeline.predict(\n",
    "    pd.DataFrame(\n",
    "        {\"year\": [2019], \"country_id\": [\"United Kingdom\"], \"region_id\": [\"Europe\"],}\n",
    "    )\n",
    ")"
   ]
  },
  {
   "cell_type": "code",
   "execution_count": 28,
   "metadata": {},
   "outputs": [
    {
     "data": {
      "text/plain": [
       "0.9982175693706118"
      ]
     },
     "execution_count": 28,
     "metadata": {},
     "output_type": "execute_result"
    }
   ],
   "source": [
    "r_sq_rf = random_forest_pipeline.score(X, y)\n",
    "r_sq_rf"
   ]
  },
  {
   "cell_type": "code",
   "execution_count": 29,
   "metadata": {},
   "outputs": [
    {
     "data": {
      "text/plain": [
       "561.031651674003"
      ]
     },
     "execution_count": 29,
     "metadata": {},
     "output_type": "execute_result"
    }
   ],
   "source": [
    "1 / (1 - r_sq_rf)"
   ]
  },
  {
   "cell_type": "code",
   "execution_count": 18,
   "metadata": {},
   "outputs": [],
   "source": [
    "# rf -111542843.17663448\n",
    "# Boxplot for outliers\n",
    "# Multicollinearity of Xs\n",
    "# AOC Curve\n",
    "# OLS\n",
    "# SHAP value and graph"
   ]
  },
  {
   "cell_type": "code",
   "execution_count": 19,
   "metadata": {},
   "outputs": [],
   "source": [
    "# Model running and testing 1: Linear Multiple Regression (number of jobs)\n",
    "# Model running and testing 2: Linear Multiple Regression with Interaction (number of jobs)\n",
    "# Model running and testing 3: Decision Tree (parameters)\n",
    "# Model running and testing 4: Random Forest (parameters)"
   ]
  },
  {
   "cell_type": "code",
   "execution_count": 20,
   "metadata": {},
   "outputs": [],
   "source": [
    "# Best model with full data 1982-2019\n",
    "# Try best model with lagged data by 1 yr\n",
    "# Try best model with lagged data by 2 yr avg"
   ]
  }
 ],
 "metadata": {
  "environment": {
   "name": "common-cpu.m54",
   "type": "gcloud",
   "uri": "gcr.io/deeplearning-platform-release/base-cpu:m54"
  },
  "kernelspec": {
   "display_name": "Python 3",
   "language": "python",
   "name": "python3"
  },
  "language_info": {
   "codemirror_mode": {
    "name": "ipython",
    "version": 3
   },
   "file_extension": ".py",
   "mimetype": "text/x-python",
   "name": "python",
   "nbconvert_exporter": "python",
   "pygments_lexer": "ipython3",
   "version": "3.7.8"
  }
 },
 "nbformat": 4,
 "nbformat_minor": 4
}
